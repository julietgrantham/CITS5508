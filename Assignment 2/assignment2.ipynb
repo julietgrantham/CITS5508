{
 "cells": [
  {
   "attachments": {},
   "cell_type": "markdown",
   "metadata": {},
   "source": [
    "#### CITS5508 Assignment 2\n",
    "* _File          : assignment2.ipynb_\n",
    "* _Contact       : 22056151@student.uwa.edu.au_\n",
    "* _Author        : Suning (Juliet) Li_\n",
    "<br><br>\n",
    "* _Editor        : Visual Studio Code 1.77.0_\n",
    "* _Python Version: 3.10_\n",
    "* _Version       : 1.0_\n",
    "<br><br>\n",
    "* _License       : (C)Copyright Juliet_Li_2023_\n",
    "* _Description   : This is the python notebook for CITS5508 assignment 2._\n",
    "* _ModifyTime    : 21/04/2023_"
   ]
  },
  {
   "attachments": {},
   "cell_type": "markdown",
   "metadata": {},
   "source": [
    "# Section 1: Binary Classification"
   ]
  }
 ],
 "metadata": {
  "language_info": {
   "name": "python"
  },
  "orig_nbformat": 4
 },
 "nbformat": 4,
 "nbformat_minor": 2
}
