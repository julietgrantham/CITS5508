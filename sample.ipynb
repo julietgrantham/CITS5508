{
 "cells": [
  {
   "cell_type": "markdown",
   "metadata": {},
   "source": [
    "## <center>CITS5508 Lab sheet 1: an example notebook</center>\n",
    "\n",
    "**File name: sample.ipynb**<br>\n",
    "**Date created:** February 2022<br>\n",
    "**Last modified:** February 2022<br>\n",
    "\n",
    "You should be able to run this code very easily and quickly from beginning to end.\n",
    "Just click on the first cell and press both the *Shift* key and the *Enter* key together.\n"
   ]
  },
  {
   "cell_type": "markdown",
   "metadata": {},
   "source": [
    "## 1. Heading ....\n",
    "\n",
    "A brief description about the task for this part ..."
   ]
  },
  {
   "cell_type": "code",
   "execution_count": 1,
   "metadata": {},
   "outputs": [
    {
     "name": "stdout",
     "output_type": "stream",
     "text": [
      "5 square = 25. This is easy!\n",
      "Python treats single-quotes the same as double-quotes as shown below.\n",
      "5 square = 25. This is easy!\n",
      "Square root of 5 is   25.00000. Cubic root of 5 is  1.70998\n",
      "\n",
      "Hello world!\n"
     ]
    }
   ],
   "source": [
    "import numpy as np\n",
    "\n",
    "a = 5\n",
    "b = a**2\n",
    "\n",
    "# To print formatted output in Python... \n",
    "print('{0:d} square = {1:d}. This is easy!'.format(a,b))\n",
    "print('Python treats single-quotes the same as double-quotes as shown below.')\n",
    "print(\"{0:d} square = {1:d}. This is easy!\".format(a,b))\n",
    "\n",
    "# The variables whose values that we want to print are put (in sequence) as arguments\n",
    "# for the 'format' function. Inside the string (enclosed by single-quotes or \n",
    "# double-quotes), we refer to these arguments as 0:, 1:, 2:, etc. For integer type,\n",
    "# we use letter 'd'; for floating point type, we use letter 'f'. For floating point\n",
    "# type, we can specify the total number of digits and the number of decimal places\n",
    "# that we want to print. \n",
    "print('Square root of {0:d} is {1:10.5f}. Cubic root of {0:d} is {2:8.5f}'.format(5, 5**2, 5**(1/3)))\n",
    "\n",
    "# To print a blank line, use\n",
    "print()\n",
    "print('Hello world!')"
   ]
  },
  {
   "cell_type": "markdown",
   "metadata": {},
   "source": [
    "Maybe you need a *Markdown* cell here to explain the output of the previous *Code* cell. \n",
    "\n",
    "You can emphasize words in your sentences using boldface, e.g., **this is important**. You can even put in reasonably complex mathematics equations in a *Markdown* cell.\n",
    "\n",
    "To run (or execute) a cell, click on the cell and press the *Enter* key while holding down the *Shift* key. You can merge cells, split cells, insert cells above or below the current cell."
   ]
  },
  {
   "cell_type": "code",
   "execution_count": 2,
   "metadata": {},
   "outputs": [
    {
     "name": "stdout",
     "output_type": "stream",
     "text": [
      "a = [0 1 2 3 4 5 6 7 8 9]\n",
      "[0 1 2 3 4 5 6 7 8 9]\n",
      "(10,)\n",
      "(10,)\n",
      "The last two print statements are not very meaningful as, looking just at the output,\n",
      "we don't know what it means.\n",
      "The last element of a is a[-1]. Its value is 9\n",
      "Reversing the array a is also easy.  [9 8 7 6 5 4 3 2 1 0]\n"
     ]
    }
   ],
   "source": [
    "# some more Python code here\n",
    "# create a numpy array containing 0..9 (inclusive)\n",
    "a = np.array(range(10))\n",
    "print('a =', a)\n",
    "print(a)\n",
    "# find out the dimension of array a\n",
    "print(a.shape)\n",
    "# another way is to use the shape function in numpy\n",
    "print(np.shape(a))\n",
    "print('The last two print statements are not very meaningful as, looking just at the output,')\n",
    "print(\"we don't know what it means.\")\n",
    "print('The last element of a is a[-1]. Its value is', a[-1])\n",
    "print('Reversing the array a is also easy. ', a[-1::-1])"
   ]
  },
  {
   "cell_type": "code",
   "execution_count": 3,
   "metadata": {},
   "outputs": [
    {
     "name": "stdout",
     "output_type": "stream",
     "text": [
      "A=\n",
      "[[0 1 2]\n",
      " [3 4 5]\n",
      " [6 7 8]]\n",
      "a=\n",
      "[0 1 2]\n",
      "result=\n",
      "[[ 0  1  4]\n",
      " [ 0  4 10]\n",
      " [ 0  7 16]]\n",
      "Matrix-vector multiplication: pre-multiplying a by A.\n",
      "result=\n",
      "[ 5 14 23]\n",
      "The result above should be correct now.\n",
      "Matrix-vector multiplication: post-multiplying a by A.\n",
      "result=\n",
      "[15 18 21]\n",
      "Dimension of b is (3, 1)\n",
      "A.dot(b) = \n",
      "[[ 5]\n",
      " [14]\n",
      " [23]]\n",
      "\n"
     ]
    }
   ],
   "source": [
    "# note that variable a above is treated as a row vector as well as a column vector.\n",
    "# We know about this as the shape returned by np.shape() is (10,) rather than (10,1).\n",
    "# We can try a simple matrix-vector multiplication below to see how such vectors\n",
    "# are treated.\n",
    "a = np.array(range(3))    # make the array a bit shorter for ease of inspection\n",
    "A = np.reshape(range(9), (3,3))          # please look up the reshape function yourself\n",
    "print('A='), print(A), print('a='), print(a)\n",
    "# Note: the code below is incorrect as it is element-wise multiplication\n",
    "result = A*a\n",
    "print('result='), print(result)\n",
    "\n",
    "print('Matrix-vector multiplication: pre-multiplying a by A.')\n",
    "result = A.dot(a)   # a is treated as a column vector (so the operation is legitimate)\n",
    "print('result='), print(result)\n",
    "print('The result above should be correct now.')\n",
    "\n",
    "print('Matrix-vector multiplication: post-multiplying a by A.')\n",
    "result = a.dot(A)   # a is treated as a row vector (so the operation is legitimate)\n",
    "print('result='), print(result)\n",
    "\n",
    "# Note that 'pre-multiplying a by A' is not the same as 'post-multiplication a by A'\n",
    "# as matrix multiplications are not commutative. These two multiplications are the\n",
    "# same only if matrix A is symmetric.\n",
    "\n",
    "# now let's make variable b a column vector (a matrix with 1 column) from variable a\n",
    "# and try the operations above.\n",
    "b = np.reshape(a, (-1,1))   # look up the 'reshape' function yourself\n",
    "print('Dimension of b is', b.shape)\n",
    "\n",
    "result = A.dot(b)\n",
    "print('A.dot(b) = '), print(result)\n",
    "\n",
    "# You can try b.dot(A). You should see an error message.\n",
    "\n",
    "# To post-multiply b by matrix A, you must transpose b first, to turn it into a row\n",
    "# vector using the transpose operator (T): result = b.T.dot(A)\n",
    "print()"
   ]
  },
  {
   "cell_type": "markdown",
   "metadata": {},
   "source": [
    "## 2. Some simple Python examples \n"
   ]
  },
  {
   "cell_type": "code",
   "execution_count": 4,
   "metadata": {
    "tags": []
   },
   "outputs": [],
   "source": [
    "# An example function with an optional argument.\n",
    "def compute_product(number1, number2=10):\n",
    "    '''\n",
    "    This function returns the product of two numbers. If the second number\n",
    "    is not specified, then it is assumed to be 10.\n",
    "    '''\n",
    "    return number1 * number2"
   ]
  },
  {
   "cell_type": "code",
   "execution_count": 5,
   "metadata": {},
   "outputs": [
    {
     "name": "stdout",
     "output_type": "stream",
     "text": [
      "35\n",
      "50\n",
      "The value returned by compute_product(9) is 90\n",
      "The number of true positives is 90\n"
     ]
    }
   ],
   "source": [
    "print(compute_product(5, 7))\n",
    "print(compute_product(5))\n",
    "\n",
    "\n",
    "# Rather than printing out numbers without explaining what they are,\n",
    "# we should always try to print out something more meaningful, like\n",
    "# the two lines below:\n",
    "result = compute_product(9)\n",
    "print('The value returned by compute_product(9) is', result)\n",
    "\n",
    "# or, if the variable 'result' represents the number of true positives then\n",
    "# we can print the following:\n",
    "print('The number of true positives is', result)"
   ]
  },
  {
   "cell_type": "code",
   "execution_count": null,
   "metadata": {
    "tags": []
   },
   "outputs": [],
   "source": [
    "# The example below has 3 optional arguments. Note that all the optional arguments\n",
    "# must have their default values defined. \n",
    "def my_function(a, scale=5, offset=3, rounding=False):\n",
    "    result = a * scale + offset\n",
    "    if rounding:\n",
    "        # rounding to the nearest integer and convert to integer\n",
    "        result = np.int32(np.round(result, decimals=0))\n",
    "    return result\n",
    "\n",
    "# If you find the function difficult to understand, then you need to take some Python\n",
    "# tutorials and learn Python at your own time. You should look up description about\n",
    "# the 'int' and 'round' functions in the numpy package."
   ]
  },
  {
   "cell_type": "code",
   "execution_count": null,
   "metadata": {},
   "outputs": [],
   "source": [
    "result = my_function(6.3)\n",
    "print('The result is:', result)\n",
    "result = my_function(6.3, rounding=True)\n",
    "print('The result is:', result)\n",
    "\n",
    "# The order of specifying the option arguments is not important; however, you\n",
    "# need to use their exact spellings.\n",
    "result = my_function(7.5, offset=1.3, scale=2.5)\n",
    "print('The result is:', result)"
   ]
  },
  {
   "cell_type": "markdown",
   "metadata": {},
   "source": [
    "## 3. Cells in Jupyter Notebook\n",
    "\n",
    "There are two main types of cells: *Markdown* and *Code*. A *Markdown* cell is for you to put in formatted comments between *Code* cells to help explain to the reader what is going on in your code. You can double-click on a *Markdown* cell to edit its contents. You can even have complex equations put into a *Markdown* cell, like the example shown below:\n",
    "\n",
    "$\\text{MSE}(\\theta) = \\frac{1}{m} \\sum_{i=1}^m \n",
    "                      \\left( h_\\theta(\\mathbf{x}^{(i)}) - y^{(i)} \\right)^2$\n",
    "                      \n",
    "Rather than an equation on its own, mathematics symbols can appear in the same paragraph of the text, like here: The regularization coefficient $\\alpha$ used in the experiment below is set to 0.5."
   ]
  },
  {
   "cell_type": "markdown",
   "metadata": {},
   "source": [
    "## 4. Navigation in Jupyter notebook\n",
    "\n",
    "You can run the entire notebook, all the cells above the current cell, or all the cells below the current cell, etc. \n",
    "\n",
    "You can select a number of cells to delete, or to move them up/down. You can split the current cell by clicking your cursor at the point you want the split to take place. You can also merge the cell with the cell above or below. You can also insert a new cell below or after the current cell to experiment or test things. These cells should be removed afterwards.\n",
    "\n",
    "You can clear all the output cells as well. This is a useful thing to do if you want to email your Jupyter notebook file to someone but it is too large to attach in your email because of many graphical outputs. Of course, this will require the recipient to run your Juyter notebook file in order to regenerate all the outputs.\n",
    "\n",
    "**In your assignment submission, it may be necessary to clear all of your output cells so that your file is small enough to submit.**\n",
    "\n",
    "Every now and then, you should do a *Save and Checckpoint* to make sure that all your changes are saved.\n",
    "\n",
    "If you encounter the *dead kernel* problem, save your work and quit. Restarting Jupyter Notebook usually helps solve this problem."
   ]
  },
  {
   "cell_type": "markdown",
   "metadata": {},
   "source": [
    "## 5. More heading...\n",
    "\n",
    "Some description about this section....\n",
    "\n",
    "### 5.1 Subsection\n",
    "\n",
    "Description\n"
   ]
  },
  {
   "cell_type": "code",
   "execution_count": null,
   "metadata": {},
   "outputs": [],
   "source": [
    "# more code here"
   ]
  },
  {
   "cell_type": "markdown",
   "metadata": {
    "jupyter": {
     "outputs_hidden": true
    }
   },
   "source": [
    "### 5.2 Subsection"
   ]
  },
  {
   "cell_type": "code",
   "execution_count": null,
   "metadata": {},
   "outputs": [],
   "source": []
  }
 ],
 "metadata": {
  "kernelspec": {
   "display_name": "Python 3",
   "language": "python",
   "name": "python3"
  },
  "language_info": {
   "codemirror_mode": {
    "name": "ipython",
    "version": 3
   },
   "file_extension": ".py",
   "mimetype": "text/x-python",
   "name": "python",
   "nbconvert_exporter": "python",
   "pygments_lexer": "ipython3",
   "version": "3.8.3"
  }
 },
 "nbformat": 4,
 "nbformat_minor": 4
}
